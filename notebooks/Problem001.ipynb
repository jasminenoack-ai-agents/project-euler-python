{
 "cells": [
  {
   "cell_type": "markdown",
   "metadata": {},
   "source": [
    "# Project Euler Problem 1"
   ]
  },
  {
   "cell_type": "code",
   "execution_count": 12,
   "id": "11579d7f",
   "metadata": {
    "vscode": {
     "languageId": "shellscript"
    }
   },
   "outputs": [],
   "source": [
    "import sys\n",
    "sys.path.append(\"..\")"
   ]
  },
  {
   "cell_type": "markdown",
   "metadata": {},
   "source": [
    "This notebook demonstrates a simple solution in Python."
   ]
  },
  {
   "cell_type": "code",
   "execution_count": 13,
   "metadata": {},
   "outputs": [],
   "source": [
    "from problems.problem001 import solve\n",
    "from datetime import datetime"
   ]
  },
  {
   "cell_type": "code",
   "execution_count": 18,
   "metadata": {},
   "outputs": [
    {
     "name": "stdout",
     "output_type": "stream",
     "text": [
      "Execution time: 0:00:00.000134\n"
     ]
    }
   ],
   "source": [
    "# 3, 5, 6, 9\n",
    "assert solve(10) == 23\n",
    "# 3, 5, 6, 9, 10, 12, 15, 18\n",
    "assert solve(20) == 78\n",
    "# 3, 5, 6, 9, 10, 12, 15, 18, 20, 21, 24, 25, 27\n",
    "assert solve(30) == 195\n",
    "assert solve(50) == 543\n",
    "assert solve(100) == 2318\n",
    "start = datetime.now()\n",
    "assert solve(1000) == 233168\n",
    "end = datetime.now()\n",
    "print(f\"Execution time: {end - start}\")"
   ]
  }
 ],
 "metadata": {
  "kernelspec": {
   "display_name": "venv",
   "language": "python",
   "name": "python3"
  },
  "language_info": {
   "codemirror_mode": {
    "name": "ipython",
    "version": 3
   },
   "file_extension": ".py",
   "mimetype": "text/x-python",
   "name": "python",
   "nbconvert_exporter": "python",
   "pygments_lexer": "ipython3",
   "version": "3.13.2"
  }
 },
 "nbformat": 4,
 "nbformat_minor": 5
}
